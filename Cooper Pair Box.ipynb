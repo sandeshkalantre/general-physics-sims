{
 "cells": [
  {
   "cell_type": "markdown",
   "metadata": {},
   "source": [
    "# Cooper Pair Box\n",
    "\n",
    "In the charge basis, the Cooper Pair Box Hamiltonian is\n",
    "\n",
    "$$ H = \\sum_{n \\in \\mathbb{Z}} E_C(n - n_g)^2  |n\\rangle\\langle n | - \\frac{E_J}{2} (| n \\rangle \\langle n + 1 | - | n + 1 \\rangle \\langle n |) $$\n",
    "\n",
    "Let's numerically diagonalize this and plot the spectrum as a function of $n_g$. Use $E_J/E_C$ as a parameter."
   ]
  },
  {
   "cell_type": "code",
   "execution_count": 2,
   "metadata": {},
   "outputs": [],
   "source": [
    "import numpy as np \n",
    "import matplotlib.pyplot as plt\n",
    "%matplotlib inline"
   ]
  },
  {
   "cell_type": "code",
   "execution_count": 72,
   "metadata": {},
   "outputs": [],
   "source": [
    "n_g = 0\n",
    "N = 10 # limits the number of \n",
    "E_C = 1\n",
    "E_J = 5\n",
    "\n",
    "H1 = E_C*np.diag((np.arange(-N,N+1) - n_g)**2)\n",
    "H2 = -(E_J/2)*(np.diag(np.ones(2*N),1) + np.diag(np.ones(2*N),-1))\n",
    "H = H1 + H2"
   ]
  },
  {
   "cell_type": "code",
   "execution_count": 73,
   "metadata": {},
   "outputs": [],
   "source": [
    "n_g_vec = np.linspace(0,3,100)\n",
    "spec = []\n",
    "for n_g in n_g_vec:\n",
    "    H1 = E_C*np.diag((np.arange(-N,N+1) - n_g)**2)\n",
    "    H2 = -(E_J/2)*(np.diag(np.ones(2*N),1) + np.diag(np.ones(2*N),-1))\n",
    "    H = H1 + H2\n",
    "    u,v = np.linalg.eigh(H)\n",
    "    spec.append(u)\n",
    "spec = np.array(spec)"
   ]
  },
  {
   "cell_type": "code",
   "execution_count": 74,
   "metadata": {},
   "outputs": [
    {
     "data": {
      "text/plain": [
       "Text(0.5, 1.0, '$\\\\frac{E_J}{E_C} = $5.0')"
      ]
     },
     "execution_count": 74,
     "metadata": {},
     "output_type": "execute_result"
    },
    {
     "data": {
      "image/png": "[encoded data removed]",
      "text/plain": [
       "<Figure size 720x480 with 1 Axes>"
      ]
     },
     "metadata": {
      "needs_background": "light"
     },
     "output_type": "display_data"
    }
   ],
   "source": [
    "plt.figure(dpi=120)\n",
    "for ind,n_g in enumerate(n_g_vec):\n",
    "    plt.scatter(n_g,spec[ind,0],color='r',marker='.')\n",
    "    plt.scatter(n_g,spec[ind,1],color='g',marker='.')\n",
    "    plt.scatter(n_g,spec[ind,2],color='b',marker='.')\n",
    "plt.xlabel(r\"$n_g$\",fontsize=16)\n",
    "plt.ylabel(r\"$E$\",fontsize=16)\n",
    "plt.title(r\"$\\frac{E_J}{E_C} = $\" + \"{:.1f}\".format(E_J/E_C),fontsize=14)"
   ]
  },
  {
   "cell_type": "code",
   "execution_count": null,
   "metadata": {},
   "outputs": [],
   "source": []
  }
 ],
 "metadata": {
  "kernelspec": {
   "display_name": "Python 3",
   "language": "python",
   "name": "python3"
  },
  "language_info": {
   "codemirror_mode": {
    "name": "ipython",
    "version": 3
   },
   "file_extension": ".py",
   "mimetype": "text/x-python",
   "name": "python",
   "nbconvert_exporter": "python",
   "pygments_lexer": "ipython3",
   "version": "3.8.2"
  }
 },
 "nbformat": 4,
 "nbformat_minor": 4
}
